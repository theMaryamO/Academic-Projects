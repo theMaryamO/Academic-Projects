{
 "cells": [
  {
   "cell_type": "code",
   "execution_count": 1,
   "metadata": {},
   "outputs": [
    {
     "name": "stdout",
     "output_type": "stream",
     "text": [
      "['The Project Gutenberg EBook of The Adventures of Sherlock Holmes', 'by Sir Arthur Conan Doyle', '(#15 in our series by Sir Arthur Conan Doyle)', '', 'Copyright laws are changing all over the world. Be sure to check the', 'copyright laws for your country before downloading or redistributing', 'this or any other Project Gutenberg eBook.', '', 'This header should be the first thing seen when viewing this Project', 'Gutenberg file.  Please do not remove it.  Do not change or edit the']\n",
      "2.4.3\n"
     ]
    }
   ],
   "source": [
    "# PySpark API:\n",
    "#http://spark.apache.org/docs/latest/api/python/index.html\n",
    "\n",
    "import os\n",
    "import sys\n",
    " \n",
    "os.environ[\"SPARK_HOME\"] = \"/usr/spark2.4.3\"\n",
    "os.environ[\"PYLIB\"] = os.environ[\"SPARK_HOME\"] + \"/python/lib\"\n",
    "# In below two lines, use /usr/bin/python2.7 if you want to use Python 2\n",
    "os.environ[\"PYSPARK_PYTHON\"] = \"/usr/local/anaconda/bin/python\" \n",
    "os.environ[\"PYSPARK_DRIVER_PYTHON\"] = \"/usr/local/anaconda/bin/python\"\n",
    "sys.path.insert(0, os.environ[\"PYLIB\"] +\"/py4j-0.10.7-src.zip\")\n",
    "sys.path.insert(0, os.environ[\"PYLIB\"] +\"/pyspark.zip\")\n",
    "\n",
    "\n",
    "# import and define spark context\n",
    "from pyspark import SparkContext, SparkConf\n",
    "conf = SparkConf().setAppName(\"appName\")\n",
    "sc = SparkContext(conf=conf)\n",
    "\n",
    "# initialise sc\n",
    "#from pyspark import SparkConf, SparkContext\n",
    "from pyspark.sql import SQLContext, HiveContext\n",
    "from pyspark.sql.types import *\n",
    "sqlContext = SQLContext(sc)\n",
    "\n",
    "# test that config loaded correctly\n",
    "rdd = sc.textFile(\"/data/mr/wordcount/input/\")\n",
    "print(rdd.take(10))\n",
    "print(sc.version)"
   ]
  },
  {
   "cell_type": "code",
   "execution_count": 2,
   "metadata": {},
   "outputs": [],
   "source": [
    "# Import libraries and other functions\n",
    "from io import StringIO\n",
    "from collections import namedtuple\n",
    "from pyspark.sql import Row\n",
    "from pyspark.sql.types import *\n",
    "from pyspark.sql.functions import *\n",
    "\n",
    "import csv\n",
    "import matplotlib.pyplot as plt\n",
    "import gmplot\n",
    "import pandas as pd"
   ]
  },
  {
   "cell_type": "code",
   "execution_count": 3,
   "metadata": {},
   "outputs": [],
   "source": [
    "#import Accidental Drug Related Death using RDD\n",
    "AccDrugDeath = sc.textFile(\"hdfs:///user/imat5322_user238740/Accidental_Drug_Related_Deaths_2012-2018 clean.csv\")"
   ]
  },
  {
   "cell_type": "code",
   "execution_count": 4,
   "metadata": {},
   "outputs": [
    {
     "data": {
      "text/plain": [
       "'ID,Date,DateType,Age,Sex,Race,ResidenceCity,ResidenceCounty,ResidenceState,DeathCity,DeathCounty,Location,LocationifOther,DescriptionofInjury,InjuryPlace,InjuryCity,InjuryCounty,InjuryState,COD,OtherSignifican,Heroin,Cocaine,Fentanyl,FentanylAnalogue,Oxycodone,Oxymorphone,Ethanol,Hydrocodone,Benzodiazepine,Methadone,Amphet,Tramad,Morphine_NotHeroin,Hydromorphone,Other,OpiateNOS,AnyOpioid,MannerofDeath,DeathCityGeo,ResidenceCityGeo,InjuryCityGeo'"
      ]
     },
     "execution_count": 4,
     "metadata": {},
     "output_type": "execute_result"
    }
   ],
   "source": [
    "#to see the first row of our data\n",
    "AccDrugDeath.first()"
   ]
  },
  {
   "cell_type": "code",
   "execution_count": 5,
   "metadata": {},
   "outputs": [
    {
     "data": {
      "text/plain": [
       "5106"
      ]
     },
     "execution_count": 5,
     "metadata": {},
     "output_type": "execute_result"
    }
   ],
   "source": [
    "#Count the number of observations in the data\n",
    "AccDrugDeath.count()"
   ]
  },
  {
   "cell_type": "code",
   "execution_count": 6,
   "metadata": {},
   "outputs": [
    {
     "data": {
      "text/plain": [
       "['12-0001,01/01/2012,DateofDeath,35,Male,White,HEBRON,TOLLAND,,HEBRON,TOLLAND,Residence,,Drug Use,Residence,,,,Cocaine and Heroin Toxicity,,Y,Y,,,,,,,,,,,,,,,,Accident,41.658069 -72.366324,41.658069 -72.366324,41.575155 -72.738288',\n",
       " '12-0002,03/01/2012,DateofDeath,41,Male,White,BRISTOL,HARTFORD,,BRISTOL,HARTFORD,Hospital,,Ingestion,Residence,,,,Multiple Drug Toxicity,,Y,,,,,,,,Y,,,,,,,,,Accident,41.673037 -72.945791,41.673037 -72.945791,41.575155 -72.738288',\n",
       " '12-0003,04/01/2012,DateofDeath,61,Male,Black,DANBURY,FAIRFIELD,,DANBURY,FAIRFIELD,Hospital,,Used Cocaine,Roadway,,,,Cocaine Toxicity,,,Y,,,,,,,,,,,,,,,,Accident,41.393666 -73.451539,41.393666 -73.451539,41.575155 -72.738288',\n",
       " \"12-0004,05/01/2012,DateofDeath,51,Male,White,STRATFORD,FAIRFIELD,,BRIDGEPORT,FAIRFIELD,Other,Mother's Home,Ingestion,Residence,,,,Methadone Toxicity,,,,,,,,,,,Y,,,,,,,,Accident,41.179195 -73.189476,41.200888 -73.131323,41.575155 -72.738288\",\n",
       " '12-0005,07/01/2012,DateofDeath,45,Male,White,HARTFORD,HARTFORD,,HARTFORD,HARTFORD,Residence,,Used Heroin,Residence,,,,Heroin Toxicity,,Y,,,,,,,,,,,,,,,,,Accident,41.765775 -72.673356,41.765775 -72.673356,41.575155 -72.738288',\n",
       " \"12-0006,08/01/2012,DateofDeath,51,Male,White,WATERBURY,NEW HAVEN,,WATERBURY,NEW HAVEN,Residence,Friend's House,Ingestion,Residence,,,,Ethanol and Methadone Toxicity,,,,,,,,Y,,,,,,,,,,,Accident,41.554261 -73.043069,41.554261 -73.043069,41.575155 -72.738288\",\n",
       " '12-0007,08/01/2012,DateofDeath,24,Female,White,STAMFORD,FAIRFIELD,,STAMFORD,FAIRFIELD,Hospital,,Ingestion,Residence,,,,Multiple Drug Toxicity,,,,,,,,,,Y,Y,Y,,,,,,,Accident,41.051924 -73.539475,41.051924 -73.539475,41.575155 -72.738288',\n",
       " '12-0008,08/01/2012,DateofDeath,33,Male,White,BROOKLYN,WINDHAM,,PUTNAM,WINDHAM,Hospital,,Injection,Residence,,,,Opiate Toxicity,,Y,,,,,,,,,,,,,,,,,Accident,41.914993 -71.911904,41.788252 -71.949628,41.575155 -72.738288',\n",
       " '12-0009,11/01/2012,DateofDeath,54,Male,White,DEEP RIVER,MIDDLESEX,,DEEP RIVER,MIDDLESEX,Residence,,Ingestion,Residence,,,,Combined Drug Toxicity Ethanol and Oxycodone,,,,,,Y,,Y,,,,,,,,,,,Accident,41.385619 -72.435658,41.385619 -72.435658,41.575155 -72.738288',\n",
       " '12-0010,12/01/2012,DateofDeath,46,Male,White,SOUTHINGTON,HARTFORD,,SOUTHINGTON,HARTFORD,Hospital,,Ingestion,Other,,,,Multiple Drug Toxicity,,,,,,,,Y,Y,Y,,,,,,bath salt,,,Pending,41.600428 -72.878105,41.600428 -72.878105,41.575155 -72.738288']"
      ]
     },
     "execution_count": 6,
     "metadata": {},
     "output_type": "execute_result"
    }
   ],
   "source": [
    "#Take Ordered shows the data in hierachy\n",
    "#Observe the data starts from 2012\n",
    "AccDrugDeath.takeOrdered(10)"
   ]
  },
  {
   "cell_type": "code",
   "execution_count": 7,
   "metadata": {},
   "outputs": [
    {
     "data": {
      "text/plain": [
       "['ID,Date,DateType,Age,Sex,Race,ResidenceCity,ResidenceCounty,ResidenceState,DeathCity,DeathCounty,Location,LocationifOther,DescriptionofInjury,InjuryPlace,InjuryCity,InjuryCounty,InjuryState,COD,OtherSignifican,Heroin,Cocaine,Fentanyl,FentanylAnalogue,Oxycodone,Oxymorphone,Ethanol,Hydrocodone,Benzodiazepine,Methadone,Amphet,Tramad,Morphine_NotHeroin,Hydromorphone,Other,OpiateNOS,AnyOpioid,MannerofDeath,DeathCityGeo,ResidenceCityGeo,InjuryCityGeo',\n",
       " '18-1018,31/12/2018,DateofDeath,57,Male,White,NEW HAVEN,NEW HAVEN,CT,NEW HAVEN,NEW HAVEN,Residence,,Substance Abuse,Residence,NEW HAVEN,NEW HAVEN,,Acute Intoxication due to the Combined Effects of Fentanyl Acetyl Fentanyl Heroin Cocaine and Methorphan,,Y,Y,Y,Y,,,,,,,,,,,,,Y,Accident,41.308252 -72.924161,41.308252 -72.924161,41.308252 -72.924161',\n",
       " '18-1017,30/12/2018,DateofDeath,51,Female,Black,WINDSOR,HARTFORD,CT,WINDSOR,HARTFORD,Residence,,Substance Abuse,Residence,WINDSOR,HARTFORD,,Acute Intoxication by the Combined Effects of Fentanyl Heroin Lamotrigine and Diphenydramine,,Y,,Y,,,,,,,,,,,,,,Y,Accident,41.852781 -72.64379,41.852781 -72.64379,41.852781 -72.64379',\n",
       " '18-1016,29/12/2018,DateofDeath,58,Male,White,ROSCOE,SULLIVAN,NY,MERIDEN,NEW HAVEN,Other,,Substance Abuse,Hotel or Motel,MERIDEN,NEW HAVEN,,Acute Methamphetamine Intoxication,Hypertensive and Atherosclerotic Cardiovascular Disease,,,,,,,,,,,Y,,,,,,,Accident,41.537589 -72.8011,,41.537589 -72.8011',\n",
       " '18-1015,29/12/2018,DateofDeath,55,Male,White,COLCHESTER,NEW LONDON,CT,MARLBOROUGH,HARTFORD,Hospital,,Substance Abuse,Residence,COLCHESTER,NEW LONDON,,Acute Inoxication due to The Combined Effects of Fentanyl Acetyl Fentanyl and Heroin,,Y,,Y,Y,,,,,,,,,,,,,Y,Accident,41.632043 -72.461309,41.57348 -72.332129,41.57348 -72.332129',\n",
       " '18-1014,29/12/2018,DateofDeath,46,Male,White,BRIDGEPORT,FAIRFIELD,CT,WATERBURY,NEW HAVEN,Hospital,,Substance Abuse,Motel,,,,Acute Intoxication due to the Combined Effects of Acetyl Fentanyl Cocaine Ethanol Fentanyl and Heroin,,Y,Y,Y,Y,,,Y,,,,,,,,,,Y,Accident,41.554261 -73.043069,41.179195 -73.189476,41.575155 -72.738288',\n",
       " '18-1013,29/12/2018,DateofDeath,44,Female,White,WILLIMANTIC,WINDHAM,CT,WILLIMANTIC,WINDHAM,Residence,,Substance Abuse,Residence,,,,Acute Intoxication due to the Combined Effects of Diphenhydramine Fentanyl and Heroin,,Y,,Y,,,,,,,,,,,,,,Y,Accident,41.711724 -72.211975,41.711724 -72.211975,41.575155 -72.738288',\n",
       " '18-1012,28/12/2018,DateofDeath,33,Male,White,WATERBURY,NEW HAVEN,CT,WATERBURY,NEW HAVEN,Hospital,,Substance Abuse,Residence,WATERBURY,NEW HAVEN,,Acute intoxication due to the combined effects of Fentanyl Heroin and Ethanol,,Y,,Y,,,,Y,,,,,,,,,,Y,Accident,41.554261 -73.043069,41.554261 -73.043069,41.554261 -73.043069',\n",
       " '18-1011,28/12/2018,DateofDeath,41,Male,Hispanic White,REDDING,,PA,HAMDEN,NEW HAVEN,Other,,Substance Abuse,Hotel or Motel,HAMDEN,NEW HAVEN,,Acute Intoxication due to the Combined Effects of Acetyl Fentanyl Fentanyl and Heroin,,Y,,Y,Y,,,,,,,,,,,,,Y,Accident,41.382918 -72.907743,41.304131 -73.379918,41.382918 -72.907743',\n",
       " '18-1010,28/12/2018,DateofDeath,28,Male,White,NEW MILFORD,LITCHFIELD,CT,NEW MILFORD,LITCHFIELD,Residence,,Substance Abuse,Residence,NEW MILFORD,LITCHFIELD,,Acute Intoxication by the Combined Effects of Fentanyl Acetyl Fentanyl and Heroin,,Y,,Y,Y,,,,,,,,,,,,,Y,Accident,41.576633 -73.408713,41.576633 -73.408713,41.576633 -73.408713']"
      ]
     },
     "execution_count": 7,
     "metadata": {},
     "output_type": "execute_result"
    }
   ],
   "source": [
    "AccDrugDeath.top(10)"
   ]
  },
  {
   "cell_type": "code",
   "execution_count": 8,
   "metadata": {},
   "outputs": [
    {
     "data": {
      "text/plain": [
       "0"
      ]
     },
     "execution_count": 8,
     "metadata": {},
     "output_type": "execute_result"
    }
   ],
   "source": [
    "#Find zero length records\n",
    "AccDrugDeathMissing = AccDrugDeath.filter(lambda x: len(x) == 0)\n",
    "AccDrugDeathMissing.count()"
   ]
  },
  {
   "cell_type": "code",
   "execution_count": 9,
   "metadata": {},
   "outputs": [
    {
     "data": {
      "text/plain": [
       "0"
      ]
     },
     "execution_count": 9,
     "metadata": {},
     "output_type": "execute_result"
    }
   ],
   "source": [
    "#Filter all zero length records\n",
    "AccDrugDeathFlat = AccDrugDeath.filter(lambda x: len(x) < 0)\n",
    "AccDrugDeathFlat.count()"
   ]
  },
  {
   "cell_type": "code",
   "execution_count": 10,
   "metadata": {},
   "outputs": [],
   "source": [
    "AccDrugDeath2 = AccDrugDeath.map(lambda x: x.split(\",\"))"
   ]
  },
  {
   "cell_type": "code",
   "execution_count": 11,
   "metadata": {},
   "outputs": [
    {
     "data": {
      "text/plain": [
       "[['ID',\n",
       "  'Date',\n",
       "  'DateType',\n",
       "  'Age',\n",
       "  'Sex',\n",
       "  'Race',\n",
       "  'ResidenceCity',\n",
       "  'ResidenceCounty',\n",
       "  'ResidenceState',\n",
       "  'DeathCity',\n",
       "  'DeathCounty',\n",
       "  'Location',\n",
       "  'LocationifOther',\n",
       "  'DescriptionofInjury',\n",
       "  'InjuryPlace',\n",
       "  'InjuryCity',\n",
       "  'InjuryCounty',\n",
       "  'InjuryState',\n",
       "  'COD',\n",
       "  'OtherSignifican',\n",
       "  'Heroin',\n",
       "  'Cocaine',\n",
       "  'Fentanyl',\n",
       "  'FentanylAnalogue',\n",
       "  'Oxycodone',\n",
       "  'Oxymorphone',\n",
       "  'Ethanol',\n",
       "  'Hydrocodone',\n",
       "  'Benzodiazepine',\n",
       "  'Methadone',\n",
       "  'Amphet',\n",
       "  'Tramad',\n",
       "  'Morphine_NotHeroin',\n",
       "  'Hydromorphone',\n",
       "  'Other',\n",
       "  'OpiateNOS',\n",
       "  'AnyOpioid',\n",
       "  'MannerofDeath',\n",
       "  'DeathCityGeo',\n",
       "  'ResidenceCityGeo',\n",
       "  'InjuryCityGeo'],\n",
       " ['18-0478',\n",
       "  '21/06/2018',\n",
       "  'DateReported',\n",
       "  '61',\n",
       "  'Male',\n",
       "  'White',\n",
       "  'BRISTOL',\n",
       "  'HARTFORD',\n",
       "  'CT',\n",
       "  'BRISTOL',\n",
       "  'HARTFORD',\n",
       "  'Residence',\n",
       "  '',\n",
       "  'Substance Abuse',\n",
       "  'Residence',\n",
       "  'BRISTOL',\n",
       "  'HARTFORD',\n",
       "  '',\n",
       "  'Acute Intoxication From the Combined Effects of Fentanyl MethadoneHydroxyzine Olanzapine and Escitalopram',\n",
       "  '',\n",
       "  '',\n",
       "  '',\n",
       "  'Y',\n",
       "  '',\n",
       "  '',\n",
       "  '',\n",
       "  '',\n",
       "  '',\n",
       "  '',\n",
       "  'Y',\n",
       "  '',\n",
       "  '',\n",
       "  '',\n",
       "  '',\n",
       "  '',\n",
       "  '',\n",
       "  'Y',\n",
       "  'Accident',\n",
       "  '41.673037 -72.945791',\n",
       "  '41.673037 -72.945791',\n",
       "  '41.673037 -72.945791']]"
      ]
     },
     "execution_count": 11,
     "metadata": {},
     "output_type": "execute_result"
    }
   ],
   "source": [
    "AccDrugDeath2.take(2)"
   ]
  },
  {
   "cell_type": "code",
   "execution_count": 12,
   "metadata": {},
   "outputs": [],
   "source": [
    "#Explicitly create schema for all fields\n",
    "schema_AccDrugDeath = StructType([ \\\n",
    "    StructField('ID', StringType(), True), \\\n",
    "    StructField('Date', StringType(), True), \\\n",
    "    StructField('DateType', StringType(), True), \\\n",
    "    StructField('Age', StringType(), True), \\\n",
    "    StructField('Sex', StringType(), True), \\\n",
    "    StructField('Race', StringType(), True), \\\n",
    "    StructField('ResidenceCity', StringType(), True), \\\n",
    "    StructField('ResidenceCounty', StringType(), True), \\\n",
    "    StructField('ResidenceState', StringType(), True), \\\n",
    "    StructField('DeathCity', StringType(), True), \\\n",
    "    StructField('DeathCounty', StringType(), True), \\\n",
    "    StructField('Location', StringType(), True), \\\n",
    "    StructField('LocationifOther', StringType(), True), \\\n",
    "    StructField('DescriptionofInjury', StringType(), True), \\\n",
    "    StructField('InjuryPlace', StringType(), True), \\\n",
    "    StructField('InjuryCity', StringType(), True), \\\n",
    "    StructField('InjuryCounty', StringType(), True), \\\n",
    "    StructField('InjuryState', StringType(), True), \\\n",
    "    StructField('COD', StringType(), True), \\\n",
    "    StructField('OtherSignifican', StringType(), True), \\\n",
    "    StructField('Heroin', StringType(), True), \\\n",
    "    StructField('Cocaine', StringType(), True), \\\n",
    "    StructField('Fentanyl', StringType(), True), \\\n",
    "    StructField('FentanylAnalogue', StringType(), True), \\\n",
    "    StructField('Oxycodone', StringType(), True), \\\n",
    "    StructField('Oxymorphone', StringType(), True), \\\n",
    "    StructField('Ethanol', StringType(), True), \\\n",
    "    StructField('Hydrocodone',StringType(), True), \\\n",
    "    StructField('Benzodiazepine', StringType(), True), \\\n",
    "    StructField('Methadone', StringType(), True), \\\n",
    "    StructField('Amphet', StringType(), True), \\\n",
    "    StructField('Tramad', StringType(), True), \\\n",
    "    StructField('Morphine_NotHeroin', StringType(), True), \\\n",
    "    StructField('Hydromorphone', StringType(), True), \\\n",
    "    StructField('Other', StringType(), True), \\\n",
    "    StructField('OpiateNOS', StringType(), True), \\\n",
    "    StructField('AnyOpioid', StringType(), True), \\\n",
    "    StructField('MannerofDeath', StringType(), True), \\\n",
    "    StructField('DeathCityGeo', StringType(), True), \\\n",
    "    StructField('ResidenceCityGeo', StringType(), True), \\\n",
    "    StructField('InjuryCityGeo', StringType(), True) ])\n",
    "    \n"
   ]
  },
  {
   "cell_type": "code",
   "execution_count": 13,
   "metadata": {},
   "outputs": [],
   "source": [
    "RDD_AccDrugDeath= AccDrugDeath2.map(lambda x: \\\n",
    "                   ((str(x[0]), str(x[1]), str(x[2]), \\\n",
    "                     str(x[3]), str(x[4]), str(x[5]), \\\n",
    "                     str(x[6]), str(x[7]), str(x[8]), \\\n",
    "                     str(x[9]), str(x[10]), str(x[11]), \\\n",
    "                     str(x[12]), str(x[13]), str(x[14]), \\\n",
    "                     str(x[15]), str(x[16]), str(x[17]), \\\n",
    "                     str(x[18]), str(x[19]), str(x[20]), \\\n",
    "                     str(x[21]), str(x[22]), str(x[23]), \\\n",
    "                     str(x[24]), str(x[25]), str(x[26]), \\\n",
    "                     str(x[27]), str(x[28]), str(x[29]), \\\n",
    "                     str(x[30]), str(x[31]), str(x[32]), \\\n",
    "                     str(x[33]), str(x[34]), str(x[35]), \\\n",
    "                     str(x[36]), str(x[37]), str(x[38]), \\\n",
    "                     str(x[39]), str(x[40]) )))"
   ]
  },
  {
   "cell_type": "code",
   "execution_count": 14,
   "metadata": {},
   "outputs": [
    {
     "data": {
      "text/plain": [
       "[('ID',\n",
       "  'Date',\n",
       "  'DateType',\n",
       "  'Age',\n",
       "  'Sex',\n",
       "  'Race',\n",
       "  'ResidenceCity',\n",
       "  'ResidenceCounty',\n",
       "  'ResidenceState',\n",
       "  'DeathCity',\n",
       "  'DeathCounty',\n",
       "  'Location',\n",
       "  'LocationifOther',\n",
       "  'DescriptionofInjury',\n",
       "  'InjuryPlace',\n",
       "  'InjuryCity',\n",
       "  'InjuryCounty',\n",
       "  'InjuryState',\n",
       "  'COD',\n",
       "  'OtherSignifican',\n",
       "  'Heroin',\n",
       "  'Cocaine',\n",
       "  'Fentanyl',\n",
       "  'FentanylAnalogue',\n",
       "  'Oxycodone',\n",
       "  'Oxymorphone',\n",
       "  'Ethanol',\n",
       "  'Hydrocodone',\n",
       "  'Benzodiazepine',\n",
       "  'Methadone',\n",
       "  'Amphet',\n",
       "  'Tramad',\n",
       "  'Morphine_NotHeroin',\n",
       "  'Hydromorphone',\n",
       "  'Other',\n",
       "  'OpiateNOS',\n",
       "  'AnyOpioid',\n",
       "  'MannerofDeath',\n",
       "  'DeathCityGeo',\n",
       "  'ResidenceCityGeo',\n",
       "  'InjuryCityGeo'),\n",
       " ('18-0478',\n",
       "  '21/06/2018',\n",
       "  'DateReported',\n",
       "  '61',\n",
       "  'Male',\n",
       "  'White',\n",
       "  'BRISTOL',\n",
       "  'HARTFORD',\n",
       "  'CT',\n",
       "  'BRISTOL',\n",
       "  'HARTFORD',\n",
       "  'Residence',\n",
       "  '',\n",
       "  'Substance Abuse',\n",
       "  'Residence',\n",
       "  'BRISTOL',\n",
       "  'HARTFORD',\n",
       "  '',\n",
       "  'Acute Intoxication From the Combined Effects of Fentanyl MethadoneHydroxyzine Olanzapine and Escitalopram',\n",
       "  '',\n",
       "  '',\n",
       "  '',\n",
       "  'Y',\n",
       "  '',\n",
       "  '',\n",
       "  '',\n",
       "  '',\n",
       "  '',\n",
       "  '',\n",
       "  'Y',\n",
       "  '',\n",
       "  '',\n",
       "  '',\n",
       "  '',\n",
       "  '',\n",
       "  '',\n",
       "  'Y',\n",
       "  'Accident',\n",
       "  '41.673037 -72.945791',\n",
       "  '41.673037 -72.945791',\n",
       "  '41.673037 -72.945791')]"
      ]
     },
     "execution_count": 14,
     "metadata": {},
     "output_type": "execute_result"
    }
   ],
   "source": [
    "RDD_AccDrugDeath.take(2)"
   ]
  },
  {
   "cell_type": "code",
   "execution_count": 15,
   "metadata": {},
   "outputs": [
    {
     "data": {
      "text/plain": [
       "[Row(ID='ID', Date='Date', DateType='DateType', Age='Age', Sex='Sex', Race='Race', ResidenceCity='ResidenceCity', ResidenceCounty='ResidenceCounty', ResidenceState='ResidenceState', DeathCity='DeathCity', DeathCounty='DeathCounty', Location='Location', LocationifOther='LocationifOther', DescriptionofInjury='DescriptionofInjury', InjuryPlace='InjuryPlace', InjuryCity='InjuryCity', InjuryCounty='InjuryCounty', InjuryState='InjuryState', COD='COD', OtherSignifican='OtherSignifican', Heroin='Heroin', Cocaine='Cocaine', Fentanyl='Fentanyl', FentanylAnalogue='FentanylAnalogue', Oxycodone='Oxycodone', Oxymorphone='Oxymorphone', Ethanol='Ethanol', Hydrocodone='Hydrocodone', Benzodiazepine='Benzodiazepine', Methadone='Methadone', Amphet='Amphet', Tramad='Tramad', Morphine_NotHeroin='Morphine_NotHeroin', Hydromorphone='Hydromorphone', Other='Other', OpiateNOS='OpiateNOS', AnyOpioid='AnyOpioid', MannerofDeath='MannerofDeath', DeathCityGeo='DeathCityGeo', ResidenceCityGeo='ResidenceCityGeo', InjuryCityGeo='InjuryCityGeo'),\n",
       " Row(ID='18-0478', Date='21/06/2018', DateType='DateReported', Age='61', Sex='Male', Race='White', ResidenceCity='BRISTOL', ResidenceCounty='HARTFORD', ResidenceState='CT', DeathCity='BRISTOL', DeathCounty='HARTFORD', Location='Residence', LocationifOther='', DescriptionofInjury='Substance Abuse', InjuryPlace='Residence', InjuryCity='BRISTOL', InjuryCounty='HARTFORD', InjuryState='', COD='Acute Intoxication From the Combined Effects of Fentanyl MethadoneHydroxyzine Olanzapine and Escitalopram', OtherSignifican='', Heroin='', Cocaine='', Fentanyl='Y', FentanylAnalogue='', Oxycodone='', Oxymorphone='', Ethanol='', Hydrocodone='', Benzodiazepine='', Methadone='Y', Amphet='', Tramad='', Morphine_NotHeroin='', Hydromorphone='', Other='', OpiateNOS='', AnyOpioid='Y', MannerofDeath='Accident', DeathCityGeo='41.673037 -72.945791', ResidenceCityGeo='41.673037 -72.945791', InjuryCityGeo='41.673037 -72.945791')]"
      ]
     },
     "execution_count": 15,
     "metadata": {},
     "output_type": "execute_result"
    }
   ],
   "source": [
    "DF_AccDrugDeath = sqlContext.createDataFrame(RDD_AccDrugDeath, schema_AccDrugDeath)\n",
    "\n",
    "DF_AccDrugDeath.take(2)"
   ]
  },
  {
   "cell_type": "code",
   "execution_count": 16,
   "metadata": {},
   "outputs": [
    {
     "name": "stdout",
     "output_type": "stream",
     "text": [
      "root\n",
      " |-- ID: string (nullable = true)\n",
      " |-- Date: string (nullable = true)\n",
      " |-- DateType: string (nullable = true)\n",
      " |-- Age: string (nullable = true)\n",
      " |-- Sex: string (nullable = true)\n",
      " |-- Race: string (nullable = true)\n",
      " |-- ResidenceCity: string (nullable = true)\n",
      " |-- ResidenceCounty: string (nullable = true)\n",
      " |-- ResidenceState: string (nullable = true)\n",
      " |-- DeathCity: string (nullable = true)\n",
      " |-- DeathCounty: string (nullable = true)\n",
      " |-- Location: string (nullable = true)\n",
      " |-- LocationifOther: string (nullable = true)\n",
      " |-- DescriptionofInjury: string (nullable = true)\n",
      " |-- InjuryPlace: string (nullable = true)\n",
      " |-- InjuryCity: string (nullable = true)\n",
      " |-- InjuryCounty: string (nullable = true)\n",
      " |-- InjuryState: string (nullable = true)\n",
      " |-- COD: string (nullable = true)\n",
      " |-- OtherSignifican: string (nullable = true)\n",
      " |-- Heroin: string (nullable = true)\n",
      " |-- Cocaine: string (nullable = true)\n",
      " |-- Fentanyl: string (nullable = true)\n",
      " |-- FentanylAnalogue: string (nullable = true)\n",
      " |-- Oxycodone: string (nullable = true)\n",
      " |-- Oxymorphone: string (nullable = true)\n",
      " |-- Ethanol: string (nullable = true)\n",
      " |-- Hydrocodone: string (nullable = true)\n",
      " |-- Benzodiazepine: string (nullable = true)\n",
      " |-- Methadone: string (nullable = true)\n",
      " |-- Amphet: string (nullable = true)\n",
      " |-- Tramad: string (nullable = true)\n",
      " |-- Morphine_NotHeroin: string (nullable = true)\n",
      " |-- Hydromorphone: string (nullable = true)\n",
      " |-- Other: string (nullable = true)\n",
      " |-- OpiateNOS: string (nullable = true)\n",
      " |-- AnyOpioid: string (nullable = true)\n",
      " |-- MannerofDeath: string (nullable = true)\n",
      " |-- DeathCityGeo: string (nullable = true)\n",
      " |-- ResidenceCityGeo: string (nullable = true)\n",
      " |-- InjuryCityGeo: string (nullable = true)\n",
      "\n"
     ]
    }
   ],
   "source": [
    "DF_AccDrugDeath.printSchema()"
   ]
  },
  {
   "cell_type": "code",
   "execution_count": 17,
   "metadata": {},
   "outputs": [
    {
     "data": {
      "text/plain": [
       "[Row(ID='ID', Date='Date', DateType='DateType', Age='Age', Sex='Sex', Race='Race', ResidenceCity='ResidenceCity', ResidenceCounty='ResidenceCounty', ResidenceState='ResidenceState', DeathCity='DeathCity', DeathCounty='DeathCounty', Location='Location', LocationifOther='LocationifOther', DescriptionofInjury='DescriptionofInjury', InjuryPlace='InjuryPlace', InjuryCity='InjuryCity', InjuryCounty='InjuryCounty', InjuryState='InjuryState', COD='COD', OtherSignifican='OtherSignifican', Heroin='Heroin', Cocaine='Cocaine', Fentanyl='Fentanyl', FentanylAnalogue='FentanylAnalogue', Oxycodone='Oxycodone', Oxymorphone='Oxymorphone', Ethanol='Ethanol', Hydrocodone='Hydrocodone', Benzodiazepine='Benzodiazepine', Methadone='Methadone', Amphet='Amphet', Tramad='Tramad', Morphine_NotHeroin='Morphine_NotHeroin', Hydromorphone='Hydromorphone', Other='Other', OpiateNOS='OpiateNOS', AnyOpioid='AnyOpioid', MannerofDeath='MannerofDeath', DeathCityGeo='DeathCityGeo', ResidenceCityGeo='ResidenceCityGeo', InjuryCityGeo='InjuryCityGeo', DeathCityLong=None),\n",
       " Row(ID='18-0478', Date='21/06/2018', DateType='DateReported', Age='61', Sex='Male', Race='White', ResidenceCity='BRISTOL', ResidenceCounty='HARTFORD', ResidenceState='CT', DeathCity='BRISTOL', DeathCounty='HARTFORD', Location='Residence', LocationifOther='', DescriptionofInjury='Substance Abuse', InjuryPlace='Residence', InjuryCity='BRISTOL', InjuryCounty='HARTFORD', InjuryState='', COD='Acute Intoxication From the Combined Effects of Fentanyl MethadoneHydroxyzine Olanzapine and Escitalopram', OtherSignifican='', Heroin='', Cocaine='', Fentanyl='Y', FentanylAnalogue='', Oxycodone='', Oxymorphone='', Ethanol='', Hydrocodone='', Benzodiazepine='', Methadone='Y', Amphet='', Tramad='', Morphine_NotHeroin='', Hydromorphone='', Other='', OpiateNOS='', AnyOpioid='Y', MannerofDeath='Accident', DeathCityGeo='41.673037 -72.945791', ResidenceCityGeo='41.673037 -72.945791', InjuryCityGeo='41.673037 -72.945791', DeathCityLong='-72.945791')]"
      ]
     },
     "execution_count": 17,
     "metadata": {},
     "output_type": "execute_result"
    }
   ],
   "source": [
    "#Spilt DeathCityGeo into seperate columns of Latitude and Longitude\n",
    "split_AccDrugDeath = DF_AccDrugDeath.withColumn('DeathCityLong', split(DF_AccDrugDeath['DeathCityGeo'], ' ')[1])\n",
    "split_AccDrugDeath.take(2)\n"
   ]
  },
  {
   "cell_type": "code",
   "execution_count": 18,
   "metadata": {},
   "outputs": [
    {
     "data": {
      "text/plain": [
       "[Row(ID='ID', Date='Date', DateType='DateType', Age='Age', Sex='Sex', Race='Race', ResidenceCity='ResidenceCity', ResidenceCounty='ResidenceCounty', ResidenceState='ResidenceState', DeathCity='DeathCity', DeathCounty='DeathCounty', Location='Location', LocationifOther='LocationifOther', DescriptionofInjury='DescriptionofInjury', InjuryPlace='InjuryPlace', InjuryCity='InjuryCity', InjuryCounty='InjuryCounty', InjuryState='InjuryState', COD='COD', OtherSignifican='OtherSignifican', Heroin='Heroin', Cocaine='Cocaine', Fentanyl='Fentanyl', FentanylAnalogue='FentanylAnalogue', Oxycodone='Oxycodone', Oxymorphone='Oxymorphone', Ethanol='Ethanol', Hydrocodone='Hydrocodone', Benzodiazepine='Benzodiazepine', Methadone='Methadone', Amphet='Amphet', Tramad='Tramad', Morphine_NotHeroin='Morphine_NotHeroin', Hydromorphone='Hydromorphone', Other='Other', OpiateNOS='OpiateNOS', AnyOpioid='AnyOpioid', MannerofDeath='MannerofDeath', DeathCityGeo='DeathCityGeo', ResidenceCityGeo='ResidenceCityGeo', InjuryCityGeo='InjuryCityGeo', DeathCityLong=None, ResidenceCityLong=None),\n",
       " Row(ID='18-0478', Date='21/06/2018', DateType='DateReported', Age='61', Sex='Male', Race='White', ResidenceCity='BRISTOL', ResidenceCounty='HARTFORD', ResidenceState='CT', DeathCity='BRISTOL', DeathCounty='HARTFORD', Location='Residence', LocationifOther='', DescriptionofInjury='Substance Abuse', InjuryPlace='Residence', InjuryCity='BRISTOL', InjuryCounty='HARTFORD', InjuryState='', COD='Acute Intoxication From the Combined Effects of Fentanyl MethadoneHydroxyzine Olanzapine and Escitalopram', OtherSignifican='', Heroin='', Cocaine='', Fentanyl='Y', FentanylAnalogue='', Oxycodone='', Oxymorphone='', Ethanol='', Hydrocodone='', Benzodiazepine='', Methadone='Y', Amphet='', Tramad='', Morphine_NotHeroin='', Hydromorphone='', Other='', OpiateNOS='', AnyOpioid='Y', MannerofDeath='Accident', DeathCityGeo='41.673037 -72.945791', ResidenceCityGeo='41.673037 -72.945791', InjuryCityGeo='41.673037 -72.945791', DeathCityLong='-72.945791', ResidenceCityLong='-72.945791')]"
      ]
     },
     "execution_count": 18,
     "metadata": {},
     "output_type": "execute_result"
    }
   ],
   "source": [
    "##Split ResidenceCityGeo column into Latitude and Longitiude\n",
    "split_AccDrugResidence= split_AccDrugDeath.withColumn('ResidenceCityLong', split(split_AccDrugDeath['ResidenceCityGeo'], ' ')[1])\n",
    "split_AccDrugResidence.take(2)"
   ]
  },
  {
   "cell_type": "code",
   "execution_count": 19,
   "metadata": {},
   "outputs": [
    {
     "data": {
      "text/plain": [
       "[Row(ID='ID', Date='Date', DateType='DateType', Age='Age', Sex='Sex', Race='Race', ResidenceCity='ResidenceCity', ResidenceCounty='ResidenceCounty', ResidenceState='ResidenceState', DeathCity='DeathCity', DeathCounty='DeathCounty', Location='Location', LocationifOther='LocationifOther', Heroin='Heroin', Cocaine='Cocaine', Fentanyl='Fentanyl', FentanylAnalogue='FentanylAnalogue', Oxycodone='Oxycodone', Oxymorphone='Oxymorphone', Ethanol='Ethanol', Hydrocodone='Hydrocodone', Benzodiazepine='Benzodiazepine', Methadone='Methadone', Amphet='Amphet', Tramad='Tramad', Morphine_NotHeroin='Morphine_NotHeroin', Hydromorphone='Hydromorphone', Other='Other', OpiateNOS='OpiateNOS', AnyOpioid='AnyOpioid', MannerofDeath='MannerofDeath', DeathCityGeo='DeathCityGeo', ResidenceCityGeo='ResidenceCityGeo', DeathCityLong=None, ResidenceCityLong=None),\n",
       " Row(ID='18-0478', Date='21/06/2018', DateType='DateReported', Age='61', Sex='Male', Race='White', ResidenceCity='BRISTOL', ResidenceCounty='HARTFORD', ResidenceState='CT', DeathCity='BRISTOL', DeathCounty='HARTFORD', Location='Residence', LocationifOther='', Heroin='', Cocaine='', Fentanyl='Y', FentanylAnalogue='', Oxycodone='', Oxymorphone='', Ethanol='', Hydrocodone='', Benzodiazepine='', Methadone='Y', Amphet='', Tramad='', Morphine_NotHeroin='', Hydromorphone='', Other='', OpiateNOS='', AnyOpioid='Y', MannerofDeath='Accident', DeathCityGeo='41.673037 -72.945791', ResidenceCityGeo='41.673037 -72.945791', DeathCityLong='-72.945791', ResidenceCityLong='-72.945791')]"
      ]
     },
     "execution_count": 19,
     "metadata": {},
     "output_type": "execute_result"
    }
   ],
   "source": [
    "\n",
    "AccDrugDeathNew = split_AccDrugResidence.drop('DescriptionofInjury', 'InjuryPlace', 'InjuryCity', 'InjuryCounty', 'InjuryState', 'COD', 'OtherSignifican', 'InjuryCityGeo') \n",
    "AccDrugDeathNew.take(2)"
   ]
  },
  {
   "cell_type": "code",
   "execution_count": 20,
   "metadata": {},
   "outputs": [
    {
     "data": {
      "text/plain": [
       "DataFrame[ID: string, Date: string, DateType: string, Age: string, Sex: string, Race: string, ResidenceCity: string, ResidenceCounty: string, ResidenceState: string, DeathCity: string, DeathCounty: string, Location: string, LocationifOther: string, Heroin: string, Cocaine: string, Fentanyl: string, FentanylAnalogue: string, Oxycodone: string, Oxymorphone: string, Ethanol: string, Hydrocodone: string, Benzodiazepine: string, Methadone: string, Amphet: string, Tramad: string, Morphine_NotHeroin: string, Hydromorphone: string, Other: string, OpiateNOS: string, AnyOpioid: string, MannerofDeath: string, DeathCityGeo: float, ResidenceCityGeo: string, DeathCityLong: string, ResidenceCityLong: string]"
      ]
     },
     "execution_count": 20,
     "metadata": {},
     "output_type": "execute_result"
    }
   ],
   "source": [
    "AccDrugDeathGeo=AccDrugDeathNew.withColumn(\"DeathCityGeo\",AccDrugDeathNew[\"DeathCityGeo\"].cast(FloatType()))\n",
    "AccDrugDeathGeo"
   ]
  },
  {
   "cell_type": "code",
   "execution_count": 21,
   "metadata": {},
   "outputs": [
    {
     "data": {
      "text/plain": [
       "DataFrame[ID: string, Date: string, DateType: string, Age: string, Sex: string, Race: string, ResidenceCity: string, ResidenceCounty: string, ResidenceState: string, DeathCity: string, DeathCounty: string, Location: string, LocationifOther: string, Heroin: string, Cocaine: string, Fentanyl: string, FentanylAnalogue: string, Oxycodone: string, Oxymorphone: string, Ethanol: string, Hydrocodone: string, Benzodiazepine: string, Methadone: string, Amphet: string, Tramad: string, Morphine_NotHeroin: string, Hydromorphone: string, Other: string, OpiateNOS: string, AnyOpioid: string, MannerofDeath: string, DeathCityGeo: float, ResidenceCityGeo: string, DeathCityLong: float, ResidenceCityLong: string]"
      ]
     },
     "execution_count": 21,
     "metadata": {},
     "output_type": "execute_result"
    }
   ],
   "source": [
    "AccDrugDeathLong=AccDrugDeathGeo.withColumn(\"DeathCityLong\",AccDrugDeathGeo[\"DeathCityLong\"].cast(FloatType()))\n",
    "AccDrugDeathLong"
   ]
  },
  {
   "cell_type": "code",
   "execution_count": 22,
   "metadata": {},
   "outputs": [
    {
     "data": {
      "text/plain": [
       "DataFrame[ID: string, Date: string, DateType: string, Age: string, Sex: string, Race: string, ResidenceCity: string, ResidenceCounty: string, ResidenceState: string, DeathCity: string, DeathCounty: string, Location: string, LocationifOther: string, Heroin: string, Cocaine: string, Fentanyl: string, FentanylAnalogue: string, Oxycodone: string, Oxymorphone: string, Ethanol: string, Hydrocodone: string, Benzodiazepine: string, Methadone: string, Amphet: string, Tramad: string, Morphine_NotHeroin: string, Hydromorphone: string, Other: string, OpiateNOS: string, AnyOpioid: string, MannerofDeath: string, DeathCityGeo: float, ResidenceCityGeo: float, DeathCityLong: float, ResidenceCityLong: string]"
      ]
     },
     "execution_count": 22,
     "metadata": {},
     "output_type": "execute_result"
    }
   ],
   "source": [
    "AccDrugResidenceGeo= AccDrugDeathLong.withColumn(\"ResidenceCityGeo\", AccDrugDeathLong[\"ResidenceCityGeo\"].cast(FloatType()))\n",
    "AccDrugResidenceGeo"
   ]
  },
  {
   "cell_type": "code",
   "execution_count": 23,
   "metadata": {},
   "outputs": [
    {
     "data": {
      "text/plain": [
       "DataFrame[ID: string, Date: string, DateType: string, Age: string, Sex: string, Race: string, ResidenceCity: string, ResidenceCounty: string, ResidenceState: string, DeathCity: string, DeathCounty: string, Location: string, LocationifOther: string, Heroin: string, Cocaine: string, Fentanyl: string, FentanylAnalogue: string, Oxycodone: string, Oxymorphone: string, Ethanol: string, Hydrocodone: string, Benzodiazepine: string, Methadone: string, Amphet: string, Tramad: string, Morphine_NotHeroin: string, Hydromorphone: string, Other: string, OpiateNOS: string, AnyOpioid: string, MannerofDeath: string, DeathCityGeo: float, ResidenceCityGeo: float, DeathCityLong: float, ResidenceCityLong: float]"
      ]
     },
     "execution_count": 23,
     "metadata": {},
     "output_type": "execute_result"
    }
   ],
   "source": [
    "AccDrugResidenceLong= AccDrugResidenceGeo.withColumn(\"ResidenceCityLong\", AccDrugResidenceGeo[\"ResidenceCityLong\"].cast(FloatType()))\n",
    "AccDrugResidenceLong"
   ]
  },
  {
   "cell_type": "code",
   "execution_count": 24,
   "metadata": {},
   "outputs": [
    {
     "data": {
      "text/plain": [
       "DataFrame[ID: string, Date: date, DateType: string, Age: string, Sex: string, Race: string, ResidenceCity: string, ResidenceCounty: string, ResidenceState: string, DeathCity: string, DeathCounty: string, Location: string, LocationifOther: string, Heroin: string, Cocaine: string, Fentanyl: string, FentanylAnalogue: string, Oxycodone: string, Oxymorphone: string, Ethanol: string, Hydrocodone: string, Benzodiazepine: string, Methadone: string, Amphet: string, Tramad: string, Morphine_NotHeroin: string, Hydromorphone: string, Other: string, OpiateNOS: string, AnyOpioid: string, MannerofDeath: string, DeathCityGeo: float, ResidenceCityGeo: float, DeathCityLong: float, ResidenceCityLong: float]"
      ]
     },
     "execution_count": 24,
     "metadata": {},
     "output_type": "execute_result"
    }
   ],
   "source": [
    "AccDrugDate= AccDrugResidenceLong.withColumn(\"Date\", AccDrugResidenceLong[\"Date\"].cast(DateType()))\n",
    "AccDrugDate"
   ]
  },
  {
   "cell_type": "code",
   "execution_count": 25,
   "metadata": {},
   "outputs": [
    {
     "data": {
      "text/plain": [
       "DataFrame[ID: string, Date: date, DateType: string, Age: int, Sex: string, Race: string, ResidenceCity: string, ResidenceCounty: string, ResidenceState: string, DeathCity: string, DeathCounty: string, Location: string, LocationifOther: string, Heroin: string, Cocaine: string, Fentanyl: string, FentanylAnalogue: string, Oxycodone: string, Oxymorphone: string, Ethanol: string, Hydrocodone: string, Benzodiazepine: string, Methadone: string, Amphet: string, Tramad: string, Morphine_NotHeroin: string, Hydromorphone: string, Other: string, OpiateNOS: string, AnyOpioid: string, MannerofDeath: string, DeathCityGeo: float, ResidenceCityGeo: float, DeathCityLong: float, ResidenceCityLong: float]"
      ]
     },
     "execution_count": 25,
     "metadata": {},
     "output_type": "execute_result"
    }
   ],
   "source": [
    "AccDrugAge= AccDrugDate.withColumn(\"Age\", AccDrugDate[\"Age\"].cast(IntegerType()))\n",
    "AccDrugAge"
   ]
  },
  {
   "cell_type": "code",
   "execution_count": 26,
   "metadata": {},
   "outputs": [
    {
     "name": "stdout",
     "output_type": "stream",
     "text": [
      "root\n",
      " |-- ID: string (nullable = true)\n",
      " |-- Date: date (nullable = true)\n",
      " |-- DateType: string (nullable = true)\n",
      " |-- Age: integer (nullable = true)\n",
      " |-- Sex: string (nullable = true)\n",
      " |-- Race: string (nullable = true)\n",
      " |-- ResidenceCity: string (nullable = true)\n",
      " |-- ResidenceCounty: string (nullable = true)\n",
      " |-- ResidenceState: string (nullable = true)\n",
      " |-- DeathCity: string (nullable = true)\n",
      " |-- DeathCounty: string (nullable = true)\n",
      " |-- Location: string (nullable = true)\n",
      " |-- LocationifOther: string (nullable = true)\n",
      " |-- Heroin: string (nullable = true)\n",
      " |-- Cocaine: string (nullable = true)\n",
      " |-- Fentanyl: string (nullable = true)\n",
      " |-- FentanylAnalogue: string (nullable = true)\n",
      " |-- Oxycodone: string (nullable = true)\n",
      " |-- Oxymorphone: string (nullable = true)\n",
      " |-- Ethanol: string (nullable = true)\n",
      " |-- Hydrocodone: string (nullable = true)\n",
      " |-- Benzodiazepine: string (nullable = true)\n",
      " |-- Methadone: string (nullable = true)\n",
      " |-- Amphet: string (nullable = true)\n",
      " |-- Tramad: string (nullable = true)\n",
      " |-- Morphine_NotHeroin: string (nullable = true)\n",
      " |-- Hydromorphone: string (nullable = true)\n",
      " |-- Other: string (nullable = true)\n",
      " |-- OpiateNOS: string (nullable = true)\n",
      " |-- AnyOpioid: string (nullable = true)\n",
      " |-- MannerofDeath: string (nullable = true)\n",
      " |-- DeathCityGeo: float (nullable = true)\n",
      " |-- ResidenceCityGeo: float (nullable = true)\n",
      " |-- DeathCityLong: float (nullable = true)\n",
      " |-- ResidenceCityLong: float (nullable = true)\n",
      "\n"
     ]
    }
   ],
   "source": [
    "AccDrugAge.printSchema()"
   ]
  },
  {
   "cell_type": "code",
   "execution_count": 27,
   "metadata": {},
   "outputs": [
    {
     "name": "stdout",
     "output_type": "stream",
     "text": [
      "+-------+----+------------+----+------+-----+-------------+---------------+--------------+-------------+-----------+---------+---------------+------+-------+--------+----------------+---------+-----------+-------+-----------+--------------+---------+------+------+------------------+-------------+-----+---------+---------+-------------+------------+----------------+-------------+-----------------+\n",
      "|     ID|Date|    DateType| Age|   Sex| Race|ResidenceCity|ResidenceCounty|ResidenceState|    DeathCity|DeathCounty| Location|LocationifOther|Heroin|Cocaine|Fentanyl|FentanylAnalogue|Oxycodone|Oxymorphone|Ethanol|Hydrocodone|Benzodiazepine|Methadone|Amphet|Tramad|Morphine_NotHeroin|Hydromorphone|Other|OpiateNOS|AnyOpioid|MannerofDeath|DeathCityGeo|ResidenceCityGeo|DeathCityLong|ResidenceCityLong|\n",
      "+-------+----+------------+----+------+-----+-------------+---------------+--------------+-------------+-----------+---------+---------------+------+-------+--------+----------------+---------+-----------+-------+-----------+--------------+---------+------+------+------------------+-------------+-----+---------+---------+-------------+------------+----------------+-------------+-----------------+\n",
      "|     ID|null|    DateType|null|   Sex| Race|ResidenceCity|ResidenceCounty|ResidenceState|    DeathCity|DeathCounty| Location|LocationifOther|Heroin|Cocaine|Fentanyl|FentanylAnalogue|Oxycodone|Oxymorphone|Ethanol|Hydrocodone|Benzodiazepine|Methadone|Amphet|Tramad|Morphine_NotHeroin|Hydromorphone|Other|OpiateNOS|AnyOpioid|MannerofDeath|        null|            null|         null|             null|\n",
      "|18-0478|null|DateReported|  61|  Male|White|      BRISTOL|       HARTFORD|            CT|      BRISTOL|   HARTFORD|Residence|               |      |       |       Y|                |         |           |       |           |              |        Y|      |      |                  |             |     |         |        Y|     Accident|        null|            null|    -72.94579|        -72.94579|\n",
      "|18-0197|null|DateReported|  57|  Male|White|SOUTH WINDSOR|       HARTFORD|            CT|SOUTH WINDSOR|   HARTFORD|Residence|               |      |      Y|       Y|                |         |           |       |           |              |         |      |      |                  |             |     |         |        Y|     Accident|        null|            null|    -72.55326|        -72.55326|\n",
      "|18-0072|null|DateReported|  24|  Male|White|  NEW BRITAIN|       HARTFORD|            CT|  NEW BRITAIN|   HARTFORD|Residence|               |      |       |       Y|                |         |           |       |           |              |         |      |      |                  |             |     |         |        Y|     Accident|        null|            null|    -72.78344|        -72.78344|\n",
      "|18-0844|null| DateofDeath|  22|  Male|White|   PLAINVILLE|       HARTFORD|            CT|  NEW BRITAIN|   HARTFORD|Residence|               |     Y|       |       Y|                |         |           |       |           |             Y|         |     Y|      |                  |             |     |         |        Y|     Accident|        null|            null|    -72.78344|        -72.85835|\n",
      "|17-0630|null|DateReported|  31|Female|White|  SOUTHINGTON|       HARTFORD|            CT|  SOUTHINGTON|   HARTFORD|Residence|               |      |      Y|       Y|               Y|         |           |      Y|           |             Y|        Y|      |      |                  |             |     |         |         |     Accident|        null|            null|   -72.878105|       -72.878105|\n",
      "|17-0935|null|DateReported|  63|  Male|White|  MARLBOROUGH|       HARTFORD|            CT|  MARLBOROUGH|   HARTFORD|Residence|               |     Y|       |       Y|                |         |           |       |           |              |        Y|      |      |                  |             |     |         |         |     Accident|        null|            null|    -72.46131|        -72.46131|\n",
      "|17-0708|null|DateReported|  36|  Male|White|         AVON|       HARTFORD|            CT|         AVON|   HARTFORD|Residence|               |      |      Y|       Y|                |         |           |       |           |              |         |      |      |                  |             |     |         |         |     Accident|        null|            null|    -72.83054|        -72.83054|\n",
      "|18-0983|null| DateofDeath|  32|Female|White|   PLAINVILLE|       HARTFORD|            CT|   PLAINVILLE|   HARTFORD|Residence|               |      |      Y|       Y|               Y|         |           |      Y|           |              |         |      |      |                  |             |     |         |        Y|     Accident|        null|            null|    -72.85835|        -72.85835|\n",
      "|17-0457|null|DateReported|  26|  Male|White|WEST HARTFORD|       HARTFORD|            CT|WEST HARTFORD|   HARTFORD|Residence|               |      |      Y|       Y|                |         |           |       |           |              |         |      |      |                  |             |     |         |         |     Accident|        null|            null|   -72.741806|       -72.741806|\n",
      "|18-0120|null|DateReported|  53|  Male|White|   PLAINVILLE|       HARTFORD|            CT|   PLAINVILLE|   HARTFORD|Residence|               |      |       |       Y|                |         |           |       |           |              |         |      |      |                  |             |     |         |        Y|     Accident|        null|            null|    -72.85835|        -72.85835|\n",
      "|17-0310|null|DateReported|  59|  Male|White|      BRISTOL|       HARTFORD|            CT|      BRISTOL|   HARTFORD|Residence|               |      |       |       Y|                |         |           |       |           |              |        Y|      |      |                  |             |     |         |         |     Accident|        null|            null|    -72.94579|        -72.94579|\n",
      "|17-1022|null|DateReported|  61|  Male|White| WETHERSFIELD|       HARTFORD|            CT| WETHERSFIELD|   HARTFORD|Residence|               |      |       |       Y|                |         |           |       |           |              |         |      |      |                  |             |     |         |         |     Accident|        null|            null|   -72.663605|       -72.663605|\n",
      "|17-0254|null|DateReported|  61|  Male|White|       CANTON|       HARTFORD|            CT|       CANTON|   HARTFORD|Residence|               |      |       |       Y|                |         |           |      Y|           |              |         |      |      |                  |             |     |         |         |     Accident|        null|            null|     -72.8968|         -72.8968|\n",
      "|17-0822|null|DateReported|  57|  Male|White|      ENFIELD|       HARTFORD|            CT|      ENFIELD|   HARTFORD|Residence|               |      |       |       Y|                |         |           |      Y|           |              |         |      |      |                  |             |     |         |         |     Accident|        null|            null|    -72.59199|        -72.59199|\n",
      "|16-0533|null| DateofDeath|  24|  Male|White|      BRISTOL|       HARTFORD|            CT|      BRISTOL|           |Residence|               |     Y|      Y|       Y|                |         |           |       |           |              |         |      |      |                  |             |     |         |        Y|     Accident|        null|            null|    -72.94579|        -72.94579|\n",
      "|16-0308|null| DateofDeath|  31|  Male|White|      ENFIELD|       HARTFORD|            CT|      ENFIELD|           |Residence|               |     Y|       |       Y|                |         |           |       |           |              |         |      |      |                  |             |     |         |        Y|     Accident|        null|            null|    -72.59199|        -72.59199|\n",
      "|17-0791|null|DateReported|  31|  Male|White| EAST WINDSOR|       HARTFORD|            CT| EAST WINDSOR|   HARTFORD|Residence|               |      |       |       Y|                |         |           |      Y|           |              |         |      |      |                  |             |     |         |         |     Accident|        null|            null|    -72.58032|        -72.58032|\n",
      "|17-0750|null|DateReported|  56|  Male|White|  SOUTHINGTON|       HARTFORD|            CT|  SOUTHINGTON|   HARTFORD|Residence|               |      |       |       Y|                |         |           |      Y|           |              |         |      |      |                  |             |     |         |         |     Accident|        null|            null|   -72.878105|       -72.878105|\n",
      "|17-0606|null|DateReported|  22|  Male|White|  SOUTHINGTON|       HARTFORD|            CT|  SOUTHINGTON|   HARTFORD|Residence|               |      |       |       Y|                |         |           |       |           |              |         |      |      |                  |             |     |         |         |     Accident|        null|            null|   -72.878105|       -72.878105|\n",
      "+-------+----+------------+----+------+-----+-------------+---------------+--------------+-------------+-----------+---------+---------------+------+-------+--------+----------------+---------+-----------+-------+-----------+--------------+---------+------+------+------------------+-------------+-----+---------+---------+-------------+------------+----------------+-------------+-----------------+\n",
      "only showing top 20 rows\n",
      "\n"
     ]
    }
   ],
   "source": [
    "sqlContext.registerDataFrameAsTable(AccDrugAge, \"Accidental_Drug_Related_Deaths\")\n",
    "\n",
    "sqlContext.sql(\"SELECT * FROM Accidental_Drug_Related_Deaths\").show()\n"
   ]
  },
  {
   "cell_type": "code",
   "execution_count": null,
   "metadata": {},
   "outputs": [],
   "source": []
  }
 ],
 "metadata": {
  "kernelspec": {
   "display_name": "Python 3",
   "language": "python",
   "name": "python3"
  },
  "language_info": {
   "codemirror_mode": {
    "name": "ipython",
    "version": 3
   },
   "file_extension": ".py",
   "mimetype": "text/x-python",
   "name": "python",
   "nbconvert_exporter": "python",
   "pygments_lexer": "ipython3",
   "version": "3.6.8"
  },
  "toc": {
   "base_numbering": 1,
   "nav_menu": {},
   "number_sections": true,
   "sideBar": true,
   "skip_h1_title": false,
   "title_cell": "Table of Contents",
   "title_sidebar": "Contents",
   "toc_cell": false,
   "toc_position": {},
   "toc_section_display": true,
   "toc_window_display": false
  }
 },
 "nbformat": 4,
 "nbformat_minor": 2
}
